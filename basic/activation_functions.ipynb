{
 "cells": [
  {
   "cell_type": "code",
   "execution_count": 1,
   "id": "1fa39b9f",
   "metadata": {},
   "outputs": [],
   "source": [
    "from IPython.display import Image"
   ]
  },
  {
   "cell_type": "code",
   "execution_count": null,
   "id": "9d1e8344",
   "metadata": {},
   "outputs": [],
   "source": []
  },
  {
   "cell_type": "code",
   "execution_count": 2,
   "id": "250e3d93",
   "metadata": {},
   "outputs": [],
   "source": [
    "def display_image(img_path, img_width=500, img_height=570):\n",
    "    return Image(img_path, width=img_width, height=img_height)"
   ]
  },
  {
   "cell_type": "code",
   "execution_count": null,
   "id": "7f693d57",
   "metadata": {},
   "outputs": [],
   "source": []
  },
  {
   "cell_type": "code",
   "execution_count": 3,
   "id": "7c417e9f",
   "metadata": {},
   "outputs": [],
   "source": [
    "import numpy as np"
   ]
  },
  {
   "cell_type": "code",
   "execution_count": null,
   "id": "bf4eb90c",
   "metadata": {},
   "outputs": [],
   "source": []
  },
  {
   "cell_type": "markdown",
   "id": "f9bace17",
   "metadata": {},
   "source": [
    "### 1. Step Function\n",
    "If the value of the function's parameter is greater than or equal to 1, the returned value will be 1, otherwise 0 will be returned."
   ]
  },
  {
   "cell_type": "code",
   "execution_count": 4,
   "id": "3b5ceccb",
   "metadata": {},
   "outputs": [
    {
     "data": {
      "image/png": "[encoded data removed]",
      "text/plain": [
       "<IPython.core.display.Image object>"
      ]
     },
     "execution_count": 4,
     "metadata": {
      "image/png": {
       "height": 570,
       "width": 500
      }
     },
     "output_type": "execute_result"
    }
   ],
   "source": [
    "display_image('images/step_function.png')"
   ]
  },
  {
   "cell_type": "code",
   "execution_count": null,
   "id": "225131c6",
   "metadata": {},
   "outputs": [],
   "source": []
  },
  {
   "cell_type": "code",
   "execution_count": 5,
   "id": "e5be4adc",
   "metadata": {},
   "outputs": [],
   "source": [
    "def step_function(sum_value):\n",
    "    return 1 if sum_value >= 1 else 0"
   ]
  },
  {
   "cell_type": "code",
   "execution_count": null,
   "id": "644f6a95",
   "metadata": {},
   "outputs": [],
   "source": []
  },
  {
   "cell_type": "markdown",
   "id": "6f631f22",
   "metadata": {},
   "source": [
    "#### Step Function - Examples"
   ]
  },
  {
   "cell_type": "code",
   "execution_count": 6,
   "id": "186ab5d7",
   "metadata": {},
   "outputs": [
    {
     "name": "stdout",
     "output_type": "stream",
     "text": [
      "0.16 = 0\n",
      "1.16 = 1\n"
     ]
    }
   ],
   "source": [
    "print(f'0.16 = {step_function(0.16)}')\n",
    "print(f'1.16 = {step_function(1.16)}')"
   ]
  },
  {
   "cell_type": "code",
   "execution_count": null,
   "id": "4bdc966f",
   "metadata": {},
   "outputs": [],
   "source": []
  }
 ],
 "metadata": {
  "kernelspec": {
   "display_name": "Python 3 (ipykernel)",
   "language": "python",
   "name": "python3"
  },
  "language_info": {
   "codemirror_mode": {
    "name": "ipython",
    "version": 3
   },
   "file_extension": ".py",
   "mimetype": "text/x-python",
   "name": "python",
   "nbconvert_exporter": "python",
   "pygments_lexer": "ipython3",
   "version": "3.8.10"
  }
 },
 "nbformat": 4,
 "nbformat_minor": 5
}
